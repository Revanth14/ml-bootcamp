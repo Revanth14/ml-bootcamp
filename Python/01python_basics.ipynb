{
 "cells": [
  {
   "cell_type": "markdown",
   "id": "7e7bc505",
   "metadata": {},
   "source": [
    "## Basics"
   ]
  },
  {
   "cell_type": "code",
   "execution_count": 1,
   "id": "42ebacda",
   "metadata": {},
   "outputs": [],
   "source": [
    "a=23\n",
    "b=43"
   ]
  },
  {
   "cell_type": "code",
   "execution_count": 2,
   "id": "c152a393",
   "metadata": {},
   "outputs": [],
   "source": [
    "sum=a+b"
   ]
  },
  {
   "cell_type": "code",
   "execution_count": 3,
   "id": "df02b535",
   "metadata": {},
   "outputs": [
    {
     "name": "stdout",
     "output_type": "stream",
     "text": [
      "66\n"
     ]
    }
   ],
   "source": [
    "print(sum)"
   ]
  },
  {
   "cell_type": "markdown",
   "id": "05d12ea0",
   "metadata": {},
   "source": [
    "### end argument in print() function"
   ]
  },
  {
   "cell_type": "code",
   "execution_count": 4,
   "id": "8240204c",
   "metadata": {},
   "outputs": [
    {
     "name": "stdout",
     "output_type": "stream",
     "text": [
      "23\n",
      "43\n"
     ]
    }
   ],
   "source": [
    "print(a)\n",
    "print(b)"
   ]
  },
  {
   "cell_type": "code",
   "execution_count": 13,
   "id": "bfee0ad1",
   "metadata": {},
   "outputs": [],
   "source": [
    "## this is giving new line, because by default value of end argument in print in '\\n'.\n",
    "# We can change this as per our needs"
   ]
  },
  {
   "cell_type": "code",
   "execution_count": 14,
   "id": "a57df30f",
   "metadata": {},
   "outputs": [
    {
     "name": "stdout",
     "output_type": "stream",
     "text": [
      "23\t43\n"
     ]
    }
   ],
   "source": [
    "print(a, end='\\t')\n",
    "print(b)"
   ]
  },
  {
   "cell_type": "code",
   "execution_count": 15,
   "id": "f1a36b6a",
   "metadata": {},
   "outputs": [
    {
     "name": "stdout",
     "output_type": "stream",
     "text": [
      "2343\n"
     ]
    }
   ],
   "source": [
    "print(a,end='')\n",
    "print(b)"
   ]
  },
  {
   "cell_type": "markdown",
   "id": "be3bf1ba",
   "metadata": {},
   "source": [
    "### sep (separator) argument in print() function"
   ]
  },
  {
   "cell_type": "code",
   "execution_count": 6,
   "id": "de3ed537",
   "metadata": {},
   "outputs": [
    {
     "name": "stdout",
     "output_type": "stream",
     "text": [
      "23 43\n"
     ]
    }
   ],
   "source": [
    "print(a,b)"
   ]
  },
  {
   "cell_type": "code",
   "execution_count": 7,
   "id": "903579bc",
   "metadata": {},
   "outputs": [],
   "source": [
    "## This gives space between variables because, by default value of sep argument in print is space (' ')\n",
    "# we can change this argument as per our needs"
   ]
  },
  {
   "cell_type": "code",
   "execution_count": 8,
   "id": "08fb8f59",
   "metadata": {},
   "outputs": [
    {
     "name": "stdout",
     "output_type": "stream",
     "text": [
      "23@43\n"
     ]
    }
   ],
   "source": [
    "print(a,b,sep='@')"
   ]
  },
  {
   "cell_type": "code",
   "execution_count": 12,
   "id": "b5ec4164",
   "metadata": {},
   "outputs": [
    {
     "name": "stdout",
     "output_type": "stream",
     "text": [
      "23#43\tHello Revanth\n",
      "23#43\n",
      "Hello Revanth\n"
     ]
    }
   ],
   "source": [
    "print(a,b,sep='#',end='\\t') # gives tab space\n",
    "print(\"Hello Revanth\")\n",
    "print(a,b,sep='#',end='\\n') # gives new line\n",
    "print(\"Hello Revanth\")"
   ]
  },
  {
   "cell_type": "markdown",
   "id": "1159db19",
   "metadata": {},
   "source": [
    "## input() function"
   ]
  },
  {
   "cell_type": "code",
   "execution_count": 17,
   "id": "d96049ef",
   "metadata": {},
   "outputs": [
    {
     "name": "stdout",
     "output_type": "stream",
     "text": [
      "23\n"
     ]
    },
    {
     "data": {
      "text/plain": [
       "'23'"
      ]
     },
     "execution_count": 17,
     "metadata": {},
     "output_type": "execute_result"
    }
   ],
   "source": [
    "input() #By default given input will be taken as a string"
   ]
  },
  {
   "cell_type": "code",
   "execution_count": 19,
   "id": "1257b9d3",
   "metadata": {},
   "outputs": [
    {
     "name": "stdout",
     "output_type": "stream",
     "text": [
      "Enter message:Good Morning\n",
      "Good Morning Revanth\n"
     ]
    }
   ],
   "source": [
    "message=input('Enter message:')\n",
    "print(message,'Revanth')"
   ]
  },
  {
   "cell_type": "markdown",
   "id": "2b5f4629",
   "metadata": {},
   "source": [
    "## type() function"
   ]
  },
  {
   "cell_type": "code",
   "execution_count": 20,
   "id": "a9b14b7b",
   "metadata": {},
   "outputs": [
    {
     "data": {
      "text/plain": [
       "str"
      ]
     },
     "execution_count": 20,
     "metadata": {},
     "output_type": "execute_result"
    }
   ],
   "source": [
    "name='Rev'\n",
    "type(name)"
   ]
  },
  {
   "cell_type": "code",
   "execution_count": 21,
   "id": "5c141554",
   "metadata": {},
   "outputs": [
    {
     "data": {
      "text/plain": [
       "int"
      ]
     },
     "execution_count": 21,
     "metadata": {},
     "output_type": "execute_result"
    }
   ],
   "source": [
    "value=66\n",
    "type(value)"
   ]
  },
  {
   "cell_type": "code",
   "execution_count": 22,
   "id": "2fd49631",
   "metadata": {},
   "outputs": [
    {
     "data": {
      "text/plain": [
       "bool"
      ]
     },
     "execution_count": 22,
     "metadata": {},
     "output_type": "execute_result"
    }
   ],
   "source": [
    "isTrue=True\n",
    "type(isTrue)"
   ]
  },
  {
   "cell_type": "code",
   "execution_count": 23,
   "id": "c1dae341",
   "metadata": {},
   "outputs": [
    {
     "data": {
      "text/plain": [
       "list"
      ]
     },
     "execution_count": 23,
     "metadata": {},
     "output_type": "execute_result"
    }
   ],
   "source": [
    "listt=[1,2,3,4]\n",
    "type(listt)"
   ]
  },
  {
   "cell_type": "code",
   "execution_count": 24,
   "id": "61ff055a",
   "metadata": {},
   "outputs": [
    {
     "data": {
      "text/plain": [
       "tuple"
      ]
     },
     "execution_count": 24,
     "metadata": {},
     "output_type": "execute_result"
    }
   ],
   "source": [
    "x=(\"apple\",\"mango\")\n",
    "type(x)"
   ]
  },
  {
   "cell_type": "code",
   "execution_count": 25,
   "id": "8893ecf5",
   "metadata": {},
   "outputs": [
    {
     "ename": "NameError",
     "evalue": "name 'c' is not defined",
     "output_type": "error",
     "traceback": [
      "\u001b[1;31m---------------------------------------------------------------------------\u001b[0m",
      "\u001b[1;31mNameError\u001b[0m                                 Traceback (most recent call last)",
      "Cell \u001b[1;32mIn[25], line 4\u001b[0m\n\u001b[0;32m      1\u001b[0m y\u001b[38;5;241m=\u001b[39m{\n\u001b[0;32m      2\u001b[0m     a:\u001b[38;5;124m\"\u001b[39m\u001b[38;5;124mIndia\u001b[39m\u001b[38;5;124m\"\u001b[39m,\n\u001b[0;32m      3\u001b[0m     b:\u001b[38;5;124m\"\u001b[39m\u001b[38;5;124mUSA\u001b[39m\u001b[38;5;124m\"\u001b[39m,\n\u001b[1;32m----> 4\u001b[0m     c:\u001b[38;5;124m\"\u001b[39m\u001b[38;5;124mAsia\u001b[39m\u001b[38;5;124m\"\u001b[39m\n\u001b[0;32m      5\u001b[0m }\n",
      "\u001b[1;31mNameError\u001b[0m: name 'c' is not defined"
     ]
    }
   ],
   "source": [
    "y={\n",
    "    a:\"India\",\n",
    "    b:\"USA\",\n",
    "    c:\"Asia\"\n",
    "}"
   ]
  },
  {
   "cell_type": "markdown",
   "id": "d729eabb",
   "metadata": {},
   "source": [
    "### Keywords"
   ]
  },
  {
   "cell_type": "markdown",
   "id": "c79ee1d2",
   "metadata": {},
   "source": [
    "### Reserved Words"
   ]
  },
  {
   "cell_type": "markdown",
   "id": "6f7f531d",
   "metadata": {},
   "source": [
    "### Variables"
   ]
  },
  {
   "cell_type": "markdown",
   "id": "ecb75d0d",
   "metadata": {},
   "source": [
    "## Identifiers"
   ]
  },
  {
   "cell_type": "code",
   "execution_count": null,
   "id": "c5bd0c07",
   "metadata": {},
   "outputs": [],
   "source": []
  }
 ],
 "metadata": {
  "kernelspec": {
   "display_name": "Python 3 (ipykernel)",
   "language": "python",
   "name": "python3"
  },
  "language_info": {
   "codemirror_mode": {
    "name": "ipython",
    "version": 3
   },
   "file_extension": ".py",
   "mimetype": "text/x-python",
   "name": "python",
   "nbconvert_exporter": "python",
   "pygments_lexer": "ipython3",
   "version": "3.11.3"
  }
 },
 "nbformat": 4,
 "nbformat_minor": 5
}
