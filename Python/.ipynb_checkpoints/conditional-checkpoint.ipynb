{
 "cells": [
  {
   "cell_type": "code",
   "execution_count": 1,
   "id": "ab595ecb",
   "metadata": {},
   "outputs": [
    {
     "name": "stdout",
     "output_type": "stream",
     "text": [
      "44\n"
     ]
    }
   ],
   "source": [
    "a=22\n",
    "b=44\n",
    "if(a>b):\n",
    "    print(a)\n",
    "else:\n",
    "    print(b)"
   ]
  },
  {
   "cell_type": "code",
   "execution_count": 4,
   "id": "73a7f316",
   "metadata": {},
   "outputs": [
    {
     "name": "stdout",
     "output_type": "stream",
     "text": [
      "Value of a and b is 22 44\n"
     ]
    }
   ],
   "source": [
    "print(\"Value of a and b is\",a,b)"
   ]
  },
  {
   "cell_type": "code",
   "execution_count": 7,
   "id": "33c15dfc",
   "metadata": {},
   "outputs": [
    {
     "name": "stdout",
     "output_type": "stream",
     "text": [
      "hello bunny\n"
     ]
    }
   ],
   "source": [
    "val='bunny'\n",
    "print(\"hello %s\" %(val))"
   ]
  },
  {
   "cell_type": "code",
   "execution_count": 9,
   "id": "bd6dbf3c",
   "metadata": {},
   "outputs": [
    {
     "name": "stdout",
     "output_type": "stream",
     "text": [
      "value of a is 22\n"
     ]
    }
   ],
   "source": [
    "num=12\n",
    "print(\"value of a is %d\" %(a))"
   ]
  },
  {
   "cell_type": "code",
   "execution_count": 11,
   "id": "11e9a29b",
   "metadata": {},
   "outputs": [
    {
     "name": "stdout",
     "output_type": "stream",
     "text": [
      "value of a is 12\n"
     ]
    }
   ],
   "source": [
    "print(f'value of a is {num}')"
   ]
  },
  {
   "cell_type": "code",
   "execution_count": 12,
   "id": "5657cf57",
   "metadata": {},
   "outputs": [
    {
     "name": "stdout",
     "output_type": "stream",
     "text": [
      "value of num is 12\n"
     ]
    }
   ],
   "source": [
    "print(\"value of num is %d\"%(num))"
   ]
  },
  {
   "cell_type": "code",
   "execution_count": 13,
   "id": "d65cb0d7",
   "metadata": {},
   "outputs": [
    {
     "name": "stdout",
     "output_type": "stream",
     "text": [
      "value of num is 12\n"
     ]
    }
   ],
   "source": [
    "print(\"value of num is {num}\".format(num=num))"
   ]
  },
  {
   "cell_type": "markdown",
   "id": "d7ffc28e",
   "metadata": {},
   "source": [
    "## Format function and format strings are way faster than format specifers"
   ]
  },
  {
   "cell_type": "markdown",
   "id": "fd9839b0",
   "metadata": {},
   "source": [
    "### Decision control statements"
   ]
  },
  {
   "cell_type": "code",
   "execution_count": 16,
   "id": "fae8a462",
   "metadata": {},
   "outputs": [
    {
     "name": "stdout",
     "output_type": "stream",
     "text": [
      "out of loop\n"
     ]
    }
   ],
   "source": [
    "age=1\n",
    "if age>18:\n",
    "    print(\"Adult\")\n",
    "print(\"out of loop\")"
   ]
  },
  {
   "cell_type": "code",
   "execution_count": 19,
   "id": "f4bffce6",
   "metadata": {},
   "outputs": [
    {
     "name": "stdout",
     "output_type": "stream",
     "text": [
      "adult\n"
     ]
    }
   ],
   "source": [
    "age=33\n",
    "if age>18:{\n",
    "    print(\"adult\")\n",
    "}\n",
    "else:\n",
    "    print(\"Child\")"
   ]
  },
  {
   "cell_type": "code",
   "execution_count": 22,
   "id": "d6da03cd",
   "metadata": {},
   "outputs": [
    {
     "name": "stdout",
     "output_type": "stream",
     "text": [
      "Enter a numberjjj\n"
     ]
    },
    {
     "ename": "ValueError",
     "evalue": "invalid literal for int() with base 10: 'jjj'",
     "output_type": "error",
     "traceback": [
      "\u001b[1;31m---------------------------------------------------------------------------\u001b[0m",
      "\u001b[1;31mValueError\u001b[0m                                Traceback (most recent call last)",
      "Cell \u001b[1;32mIn[22], line 1\u001b[0m\n\u001b[1;32m----> 1\u001b[0m number\u001b[38;5;241m=\u001b[39m\u001b[38;5;28mint\u001b[39m(\u001b[38;5;28minput\u001b[39m(\u001b[38;5;124m\"\u001b[39m\u001b[38;5;124mEnter a number\u001b[39m\u001b[38;5;124m\"\u001b[39m))\n\u001b[0;32m      2\u001b[0m \u001b[38;5;28;01mif\u001b[39;00m number\u001b[38;5;241m%\u001b[39m\u001b[38;5;241m2\u001b[39m\u001b[38;5;241m==\u001b[39m\u001b[38;5;241m0\u001b[39m:\n\u001b[0;32m      3\u001b[0m     \u001b[38;5;28mprint\u001b[39m(\u001b[38;5;124m\"\u001b[39m\u001b[38;5;124meven\u001b[39m\u001b[38;5;124m\"\u001b[39m)\n",
      "\u001b[1;31mValueError\u001b[0m: invalid literal for int() with base 10: 'jjj'"
     ]
    }
   ],
   "source": [
    "number=int(input(\"Enter a number\"))\n",
    "if number%2==0:\n",
    "    print(\"even\")\n",
    "else:\n",
    "    print(\"Odd\")"
   ]
  },
  {
   "cell_type": "code",
   "execution_count": 4,
   "id": "30e1a2a4",
   "metadata": {},
   "outputs": [
    {
     "name": "stdout",
     "output_type": "stream",
     "text": [
      "Capital\n"
     ]
    }
   ],
   "source": [
    "char=input(\"Enter a character: \")\n",
    "if char>='a' and char <='z':\n",
    "    print(\"Small\")\n",
    "else:\n",
    "    print(\"Capital\")"
   ]
  },
  {
   "cell_type": "code",
   "execution_count": 5,
   "id": "72f85e4d",
   "metadata": {},
   "outputs": [],
   "source": [
    "del char"
   ]
  },
  {
   "cell_type": "code",
   "execution_count": 6,
   "id": "a1691880",
   "metadata": {},
   "outputs": [],
   "source": [
    "test=12"
   ]
  },
  {
   "cell_type": "code",
   "execution_count": null,
   "id": "47039d0f",
   "metadata": {},
   "outputs": [],
   "source": []
  }
 ],
 "metadata": {
  "kernelspec": {
   "display_name": "Python 3 (ipykernel)",
   "language": "python",
   "name": "python3"
  },
  "language_info": {
   "codemirror_mode": {
    "name": "ipython",
    "version": 3
   },
   "file_extension": ".py",
   "mimetype": "text/x-python",
   "name": "python",
   "nbconvert_exporter": "python",
   "pygments_lexer": "ipython3",
   "version": "3.11.3"
  }
 },
 "nbformat": 4,
 "nbformat_minor": 5
}
